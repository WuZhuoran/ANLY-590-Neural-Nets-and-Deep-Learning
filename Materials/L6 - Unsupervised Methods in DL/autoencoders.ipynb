{
 "cells": [
  {
   "cell_type": "code",
   "execution_count": 4,
   "metadata": {},
   "outputs": [],
   "source": [
    "from keras.layers import Input, Dense\n",
    "from keras.models import Model, Sequential\n",
    "from keras.datasets import mnist\n",
    "import numpy as np\n",
    "import matplotlib.pyplot as plt\n",
    "%matplotlib inline"
   ]
  },
  {
   "cell_type": "code",
   "execution_count": 5,
   "metadata": {},
   "outputs": [
    {
     "name": "stdout",
     "output_type": "stream",
     "text": [
      "(60000, 784)\n"
     ]
    }
   ],
   "source": [
    "(x_train, y_train), (x_test, y_test) = mnist.load_data()\n",
    "x_train = x_train.astype('float32') / 255.\n",
    "x_test = x_test.astype('float32') / 255.\n",
    "x_train = x_train.reshape((len(x_train), np.prod(x_train.shape[1:])))\n",
    "x_test = x_test.reshape((len(x_test), np.prod(x_test.shape[1:])))\n",
    "\n",
    "print(x_train.shape)"
   ]
  },
  {
   "cell_type": "code",
   "execution_count": 58,
   "metadata": {},
   "outputs": [],
   "source": [
    "autoenc = Sequential()\n",
    "autoenc.add(Dense(32, activation=\"relu\", input_shape=(784,)))\n",
    "autoenc.add(Dense(64, activation=\"relu\", input_shape=(784,)))\n",
    "autoenc.add(Dense(128, activation=\"relu\", input_shape=(784,)))\n",
    "autoenc.add(Dense(256, activation=\"relu\", input_shape=(784,)))\n",
    "autoenc.add(Dense(784, activation=\"sigmoid\"))"
   ]
  },
  {
   "cell_type": "code",
   "execution_count": 59,
   "metadata": {},
   "outputs": [],
   "source": [
    "autoenc.compile(optimizer='adadelta', loss='mean_squared_error')"
   ]
  },
  {
   "cell_type": "code",
   "execution_count": 60,
   "metadata": {},
   "outputs": [
    {
     "name": "stdout",
     "output_type": "stream",
     "text": [
      "Train on 60000 samples, validate on 10000 samples\n",
      "Epoch 1/10\n",
      "60000/60000 [==============================] - 3s 47us/step - loss: 0.1116 - val_loss: 0.0695\n",
      "Epoch 2/10\n",
      "60000/60000 [==============================] - 2s 38us/step - loss: 0.0686 - val_loss: 0.0682\n",
      "Epoch 3/10\n",
      "60000/60000 [==============================] - 2s 38us/step - loss: 0.0674 - val_loss: 0.0672\n",
      "Epoch 4/10\n",
      "60000/60000 [==============================] - 2s 38us/step - loss: 0.0659 - val_loss: 0.0649\n",
      "Epoch 5/10\n",
      "60000/60000 [==============================] - 2s 38us/step - loss: 0.0626 - val_loss: 0.0606\n",
      "Epoch 6/10\n",
      "60000/60000 [==============================] - 2s 38us/step - loss: 0.0584 - val_loss: 0.0562\n",
      "Epoch 7/10\n",
      "60000/60000 [==============================] - 2s 38us/step - loss: 0.0547 - val_loss: 0.0529\n",
      "Epoch 8/10\n",
      "60000/60000 [==============================] - 2s 38us/step - loss: 0.0520 - val_loss: 0.0504\n",
      "Epoch 9/10\n",
      "60000/60000 [==============================] - 2s 37us/step - loss: 0.0492 - val_loss: 0.0475\n",
      "Epoch 10/10\n",
      "60000/60000 [==============================] - 2s 37us/step - loss: 0.0465 - val_loss: 0.0451\n"
     ]
    },
    {
     "data": {
      "text/plain": [
       "<keras.callbacks.History at 0x2b3e5169a90>"
      ]
     },
     "execution_count": 60,
     "metadata": {},
     "output_type": "execute_result"
    }
   ],
   "source": [
    "autoenc.fit(x_train, x_train,\n",
    "                epochs=10,\n",
    "                batch_size=256,\n",
    "                shuffle=True,\n",
    "                validation_data=(x_test, x_test))"
   ]
  },
  {
   "cell_type": "code",
   "execution_count": 57,
   "metadata": {},
   "outputs": [
    {
     "data": {
      "image/png": "[encoded data removed]",
      "text/plain": [
       "<matplotlib.figure.Figure at 0x2b3e21a3ba8>"
      ]
     },
     "metadata": {},
     "output_type": "display_data"
    }
   ],
   "source": [
    "n=5\n",
    "for k in range(n):\n",
    "    ax = plt.subplot(2, n, k+1)\n",
    "    plt.imshow(x_test[k:k+1,:].reshape((28,28)))\n",
    "    ax = plt.subplot(2, n, k+1 + n)\n",
    "    reconstruction = autoenc.predict(x_test[k:k+1,:])\n",
    "    reconstruction.resize((28,28))\n",
    "    plt.imshow(reconstruction)"
   ]
  },
  {
   "cell_type": "markdown",
   "metadata": {},
   "source": [
    "### Exercise 1 - Deep Autoencoder\n",
    "Build and train a deep autoencoder network. If possible, try to make your middle layer (embedding) just two dimensional, so that we can visualize the images compressed into a 2D space. \n",
    "\n",
    "Use the code below to extract the embedded representation for any image. For a set of test images, make a 2D scatter plot of the embedding representation and then color by the image class. Do you see any separation between the different MNIST numbers? "
   ]
  },
  {
   "cell_type": "code",
   "execution_count": 51,
   "metadata": {},
   "outputs": [],
   "source": [
    "from keras import backend as K\n",
    "def extract_layer_output(model, layer_num):\n",
    "    return K.function([model.input] + [K.learning_phase()], [model.layers[layer_num].output])"
   ]
  },
  {
   "cell_type": "code",
   "execution_count": 52,
   "metadata": {},
   "outputs": [],
   "source": [
    "embedding_layer = extract_layer_output(autoenc, 3) # you'll need to edit this"
   ]
  },
  {
   "cell_type": "code",
   "execution_count": 53,
   "metadata": {},
   "outputs": [
    {
     "data": {
      "text/plain": [
       "<matplotlib.collections.PathCollection at 0x2b3e20d85f8>"
      ]
     },
     "execution_count": 53,
     "metadata": {},
     "output_type": "execute_result"
    },
    {
     "data": {
      "image/png": "[encoded data removed]",
      "text/plain": [
       "<matplotlib.figure.Figure at 0x2b3e37caef0>"
      ]
     },
     "metadata": {},
     "output_type": "display_data"
    }
   ],
   "source": [
    "embeddings = embedding_layer([x_test[1:1000,]])[0]\n",
    "plt.scatter(embeddings[:,0], embeddings[:,1], c=y_test[1:1000])"
   ]
  },
  {
   "cell_type": "code",
   "execution_count": null,
   "metadata": {},
   "outputs": [],
   "source": []
  },
  {
   "cell_type": "markdown",
   "metadata": {},
   "source": [
    "### Exercise 2 - Airfoil\n",
    "\n",
    "Build and train an autoencoder on the UCI Airfoil dataset (https://archive.ics.uci.edu/ml/datasets/airfoil+self-noise) \n",
    "\n",
    "*  Download the data and load it into your python session (either with Numpy or Pandas). You may have to do some data transformations to get things into the proper arrays that Keras expects.\n",
    "\n",
    "* Do some quick exploratory data analsis. What variables are in this dataset? For our purposes, we will *not* consider the \"Sound Pressure\" variable as a target. Instead, we will proceed with all the varialbes and consider only unsupervised methods. Make a few scatterplots (or scatterplot matrix) to see how the variables relate to each other.\n",
    "\n",
    " This dataset is derived from NASA wind tunnel experiments. Thus, the relationships between these variables are probably described by some rather simple physics equations. It might be the case that even though these data are measured in several dimensions, their variability might span only a low-dimensional manifold. We'll use an autocoder to test this hypothesis and see if we can capture this manifold. \n",
    " \n",
    " \n",
    "* Build and train an autoencoder. Explore which activation functions seems to be most helpful toward getting the smallest loss. Explore which architectures seem to be more successful than others.\n",
    "\n",
    "* (Optional) If time permits, explore some visualization techniques of your embeddings, as described in Exercise 1."
   ]
  },
  {
   "cell_type": "code",
   "execution_count": 64,
   "metadata": {},
   "outputs": [],
   "source": [
    "import pandas as pd\n",
    "\n",
    "data = pd.read_csv('airfoil_self_noise.dat.txt', sep='\\t', header=None)"
   ]
  },
  {
   "cell_type": "code",
   "execution_count": 113,
   "metadata": {},
   "outputs": [
    {
     "name": "stdout",
     "output_type": "stream",
     "text": [
      "Train on 1202 samples, validate on 301 samples\n",
      "Epoch 1/10\n",
      "1202/1202 [==============================] - 1s 726us/step - loss: 0.0154 - val_loss: 0.0162\n",
      "Epoch 2/10\n",
      "1202/1202 [==============================] - 0s 40us/step - loss: 0.0151 - val_loss: 0.0158\n",
      "Epoch 3/10\n",
      "1202/1202 [==============================] - 0s 38us/step - loss: 0.0148 - val_loss: 0.0154\n",
      "Epoch 4/10\n",
      "1202/1202 [==============================] - 0s 37us/step - loss: 0.0145 - val_loss: 0.0151\n",
      "Epoch 5/10\n",
      "1202/1202 [==============================] - 0s 37us/step - loss: 0.0141 - val_loss: 0.0146\n",
      "Epoch 6/10\n",
      "1202/1202 [==============================] - 0s 38us/step - loss: 0.0138 - val_loss: 0.0142\n",
      "Epoch 7/10\n",
      "1202/1202 [==============================] - 0s 39us/step - loss: 0.0135 - val_loss: 0.0139\n",
      "Epoch 8/10\n",
      "1202/1202 [==============================] - 0s 36us/step - loss: 0.0132 - val_loss: 0.0135\n",
      "Epoch 9/10\n",
      "1202/1202 [==============================] - 0s 38us/step - loss: 0.0129 - val_loss: 0.0132\n",
      "Epoch 10/10\n",
      "1202/1202 [==============================] - 0s 37us/step - loss: 0.0127 - val_loss: 0.0129\n"
     ]
    },
    {
     "data": {
      "text/plain": [
       "<keras.callbacks.History at 0x2b385385e80>"
      ]
     },
     "execution_count": 113,
     "metadata": {},
     "output_type": "execute_result"
    }
   ],
   "source": [
    "from sklearn.model_selection import train_test_split\n",
    "from sklearn import preprocessing\n",
    "\n",
    "x = data.values #returns a numpy array\n",
    "min_max_scaler = preprocessing.MinMaxScaler()\n",
    "x_scaled = min_max_scaler.fit_transform(x)\n",
    "data = pd.DataFrame(x_scaled)\n",
    "\n",
    "\n",
    "Y = data[5]\n",
    "X = data.drop(5, axis=1)\n",
    "\n",
    "X_train, X_test, y_train, y_test = train_test_split(X, Y, test_size=0.2, random_state=42)\n",
    "\n",
    "autoenc = Sequential()\n",
    "autoenc.add(Dense(32, activation=\"relu\", input_shape=(5,)))\n",
    "autoenc.add(Dense(5, activation=\"sigmoid\"))\n",
    "autoenc.add(Dense(1, activation=\"sigmoid\"))\n",
    "\n",
    "autoenc.compile(optimizer='adadelta', loss='logcosh')\n",
    "\n",
    "autoenc.fit(X_train, y_train,\n",
    "                epochs=10,\n",
    "                batch_size=32,\n",
    "                shuffle=True,\n",
    "                validation_data=(X_test, y_test))\n",
    "\n"
   ]
  },
  {
   "cell_type": "code",
   "execution_count": 114,
   "metadata": {},
   "outputs": [
    {
     "name": "stdout",
     "output_type": "stream",
     "text": [
      "301/301 [==============================] - 0s 13us/step\n"
     ]
    },
    {
     "data": {
      "text/plain": [
       "0.012933557673645178"
      ]
     },
     "execution_count": 114,
     "metadata": {},
     "output_type": "execute_result"
    }
   ],
   "source": [
    "from keras.losses import logcosh\n",
    "\n",
    "score = autoenc.evaluate(X_test, y_test, batch_size=128)\n",
    "score"
   ]
  }
 ],
 "metadata": {
  "kernelspec": {
   "display_name": "Python 3",
   "language": "python",
   "name": "python3"
  },
  "language_info": {
   "codemirror_mode": {
    "name": "ipython",
    "version": 3
   },
   "file_extension": ".py",
   "mimetype": "text/x-python",
   "name": "python",
   "nbconvert_exporter": "python",
   "pygments_lexer": "ipython3",
   "version": "3.5.3"
  }
 },
 "nbformat": 4,
 "nbformat_minor": 2
}
