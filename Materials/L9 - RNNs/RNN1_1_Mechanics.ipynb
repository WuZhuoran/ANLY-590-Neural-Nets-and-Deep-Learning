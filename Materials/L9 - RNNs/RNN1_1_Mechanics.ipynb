{
 "cells": [
  {
   "cell_type": "markdown",
   "metadata": {},
   "source": [
    "### Mechanics of a Simple RNN\n",
    "- Before looking at more complicated RNNS let's get the basics down\n",
    "- Let's start with the simple example of classifying the sentiment of sentence \n",
    "- This will:\n",
    "    - Give us a good sense of how RNNs work\n",
    "    - Understand the mechanics and \"best practices\"\n",
    "    - Will not give good the best results (why?)"
   ]
  },
  {
   "cell_type": "code",
   "execution_count": 1,
   "metadata": {},
   "outputs": [
    {
     "name": "stderr",
     "output_type": "stream",
     "text": [
      "Using TensorFlow backend.\n"
     ]
    }
   ],
   "source": [
    "# --- Libraries ---\n",
    "# - Base libs - \n",
    "import os\n",
    "import numpy as np\n",
    "\n",
    "# -Tensorflow-\n",
    "import tensorflow as tf\n",
    "from tensorflow.python.client import device_lib\n",
    "# -Keras libs-\n",
    "from keras.models import Sequential\n",
    "from keras.layers import Dense, Embedding, SimpleRNN, LSTM, GRU\n",
    "from keras.utils import plot_model # pydot, graphviz are dependencies\n",
    "from keras.utils.vis_utils import model_to_dot\n",
    "from keras.callbacks import TensorBoard, ModelCheckpoint\n",
    "\n",
    "\n",
    "# -Plot libs-\n",
    "import matplotlib.pyplot as plt\n",
    "from IPython.display import SVG, display\n",
    "#%matplotlib inline"
   ]
  },
  {
   "cell_type": "code",
   "execution_count": 2,
   "metadata": {},
   "outputs": [],
   "source": [
    "# --- Set base path ---\n",
    "cwd = os.getcwd()"
   ]
  },
  {
   "cell_type": "code",
   "execution_count": 3,
   "metadata": {},
   "outputs": [
    {
     "name": "stdout",
     "output_type": "stream",
     "text": [
      "[name: \"/device:CPU:0\"\n",
      "device_type: \"CPU\"\n",
      "memory_limit: 268435456\n",
      "locality {\n",
      "}\n",
      "incarnation: 17892017397674095442\n",
      "]\n"
     ]
    }
   ],
   "source": [
    "# --- Config Check --- \n",
    "# - GPU: Check -\n",
    "print(device_lib.list_local_devices())\n",
    "\n",
    "# - Ensuring we have sufficient buffer size -\n",
    "config = tf.ConfigProto()\n",
    "config.gpu_options.allow_growth = True\n",
    "\n",
    "# - Creating session -\n",
    "sess = tf.Session(config=config)"
   ]
  },
  {
   "cell_type": "code",
   "execution_count": 4,
   "metadata": {},
   "outputs": [
    {
     "name": "stdout",
     "output_type": "stream",
     "text": [
      "...Loading Data...\n",
      "25000 train sequences\n",
      "25000 test sequences\n",
      "Pad sequence (sample x time)\n",
      "input_train shape: (25000, 64)\n",
      "input_test shape: (25000, 64)\n"
     ]
    }
   ],
   "source": [
    "# --- Preparing the IMDB Data ---\n",
    "from keras.datasets import imdb\n",
    "from keras.preprocessing import sequence\n",
    "\n",
    "# Max number of words\n",
    "max_features = 10000\n",
    "\n",
    "# Max length of sentence\n",
    "maxlen = 64 \n",
    "\n",
    "# Max number of comments read in at at ime\n",
    "batch_size = 64\n",
    "\n",
    "print('...Loading Data...')\n",
    "(input_train, y_train), (input_test, y_test) = imdb.load_data(num_words = max_features)\n",
    "print(len(input_train), 'train sequences')\n",
    "print(len(input_test), 'test sequences')\n",
    "\n",
    "print('Pad sequence (sample x time)')\n",
    "input_train = sequence.pad_sequences(input_train, maxlen = maxlen)\n",
    "input_test = sequence.pad_sequences(input_test, maxlen=maxlen)\n",
    "print('input_train shape:', input_train.shape)\n",
    "print('input_test shape:', input_test.shape)"
   ]
  },
  {
   "cell_type": "code",
   "execution_count": 5,
   "metadata": {},
   "outputs": [
    {
     "data": {
      "image/svg+xml": [
       "<svg height=\"264pt\" viewBox=\"0.00 0.00 171.00 264.00\" width=\"171pt\" xmlns=\"http://www.w3.org/2000/svg\" xmlns:xlink=\"http://www.w3.org/1999/xlink\">\n",
       "<g class=\"graph\" id=\"graph0\" transform=\"scale(1 1) rotate(0) translate(4 260)\">\n",
       "<title>G</title>\n",
       "<polygon fill=\"white\" points=\"-4,4 -4,-260 167,-260 167,4 -4,4\" stroke=\"none\"/>\n",
       "<!-- 2010392779800 -->\n",
       "<g class=\"node\" id=\"node1\"><title>2010392779800</title>\n",
       "<polygon fill=\"none\" points=\"0,-146.5 0,-182.5 163,-182.5 163,-146.5 0,-146.5\" stroke=\"black\"/>\n",
       "<text font-family=\"Times New Roman,serif\" font-size=\"14.00\" text-anchor=\"middle\" x=\"81.5\" y=\"-160.8\">embedding_1: Embedding</text>\n",
       "</g>\n",
       "<!-- 2010392780360 -->\n",
       "<g class=\"node\" id=\"node2\"><title>2010392780360</title>\n",
       "<polygon fill=\"none\" points=\"32.5,-73.5 32.5,-109.5 130.5,-109.5 130.5,-73.5 32.5,-73.5\" stroke=\"black\"/>\n",
       "<text font-family=\"Times New Roman,serif\" font-size=\"14.00\" text-anchor=\"middle\" x=\"81.5\" y=\"-87.8\">lstm_1: LSTM</text>\n",
       "</g>\n",
       "<!-- 2010392779800&#45;&gt;2010392780360 -->\n",
       "<g class=\"edge\" id=\"edge2\"><title>2010392779800-&gt;2010392780360</title>\n",
       "<path d=\"M81.5,-146.313C81.5,-138.289 81.5,-128.547 81.5,-119.569\" fill=\"none\" stroke=\"black\"/>\n",
       "<polygon fill=\"black\" points=\"85.0001,-119.529 81.5,-109.529 78.0001,-119.529 85.0001,-119.529\" stroke=\"black\"/>\n",
       "</g>\n",
       "<!-- 2010366617080 -->\n",
       "<g class=\"node\" id=\"node3\"><title>2010366617080</title>\n",
       "<polygon fill=\"none\" points=\"29.5,-0.5 29.5,-36.5 133.5,-36.5 133.5,-0.5 29.5,-0.5\" stroke=\"black\"/>\n",
       "<text font-family=\"Times New Roman,serif\" font-size=\"14.00\" text-anchor=\"middle\" x=\"81.5\" y=\"-14.8\">dense_1: Dense</text>\n",
       "</g>\n",
       "<!-- 2010392780360&#45;&gt;2010366617080 -->\n",
       "<g class=\"edge\" id=\"edge3\"><title>2010392780360-&gt;2010366617080</title>\n",
       "<path d=\"M81.5,-73.3129C81.5,-65.2895 81.5,-55.5475 81.5,-46.5691\" fill=\"none\" stroke=\"black\"/>\n",
       "<polygon fill=\"black\" points=\"85.0001,-46.5288 81.5,-36.5288 78.0001,-46.5289 85.0001,-46.5288\" stroke=\"black\"/>\n",
       "</g>\n",
       "<!-- 2011951927928 -->\n",
       "<g class=\"node\" id=\"node4\"><title>2011951927928</title>\n",
       "<polygon fill=\"none\" points=\"29.5,-219.5 29.5,-255.5 133.5,-255.5 133.5,-219.5 29.5,-219.5\" stroke=\"black\"/>\n",
       "<text font-family=\"Times New Roman,serif\" font-size=\"14.00\" text-anchor=\"middle\" x=\"81.5\" y=\"-233.8\">2011951927928</text>\n",
       "</g>\n",
       "<!-- 2011951927928&#45;&gt;2010392779800 -->\n",
       "<g class=\"edge\" id=\"edge1\"><title>2011951927928-&gt;2010392779800</title>\n",
       "<path d=\"M81.5,-219.313C81.5,-211.289 81.5,-201.547 81.5,-192.569\" fill=\"none\" stroke=\"black\"/>\n",
       "<polygon fill=\"black\" points=\"85.0001,-192.529 81.5,-182.529 78.0001,-192.529 85.0001,-192.529\" stroke=\"black\"/>\n",
       "</g>\n",
       "</g>\n",
       "</svg>"
      ],
      "text/plain": [
       "<IPython.core.display.SVG object>"
      ]
     },
     "metadata": {},
     "output_type": "display_data"
    }
   ],
   "source": [
    "# --- Training model: Embedding + RNN ---\n",
    "model = Sequential()\n",
    "model.add(Embedding(max_features, 32))\n",
    "#model.add(SimpleRNN(32))\n",
    "#model.add(GRU(32))\n",
    "model.add(LSTM(32))\n",
    "model.add(Dense(1, activation ='sigmoid'))\n",
    "\n",
    "# --- Visualizing the model ---\n",
    "show_model_now = True\n",
    "if (show_model_now):\n",
    "    display(SVG(model_to_dot(model).create(prog='dot', format='svg')))\n",
    "else:\n",
    "    # saves model in directory\n",
    "    plot_model(model,\n",
    "               to_file=os.path.join(cwd,'model.png'))"
   ]
  },
  {
   "cell_type": "code",
   "execution_count": 6,
   "metadata": {},
   "outputs": [
    {
     "name": "stdout",
     "output_type": "stream",
     "text": [
      "Train on 20000 samples, validate on 5000 samples\n",
      "Epoch 1/3\n",
      "20000/20000 [==============================] - 14s 678us/step - loss: 0.4877 - acc: 0.7612 - val_loss: 0.3982 - val_acc: 0.8174\n",
      "Epoch 2/3\n",
      "20000/20000 [==============================] - 12s 606us/step - loss: 0.3326 - acc: 0.8599 - val_loss: 0.3919 - val_acc: 0.8256\n",
      "Epoch 3/3\n",
      "20000/20000 [==============================] - 12s 608us/step - loss: 0.2892 - acc: 0.8805 - val_loss: 0.4298 - val_acc: 0.8104\n"
     ]
    }
   ],
   "source": [
    "# --- Locations to save model ---\n",
    "save_path_weights = os.path.join(cwd,'rnn_weights.h5')\n",
    "save_path_model = os.path.join(cwd,'rnn_model.h5')\n",
    "\n",
    "# --- Compile Model ---\n",
    "#Compile model\n",
    "model.compile(optimizer = 'rmsprop',\n",
    "             loss = 'binary_crossentropy',\n",
    "             metrics=['acc'])\n",
    "\n",
    "# If we want to checkpoint our model so we don't rerun it\n",
    "checkpointer = ModelCheckpoint(filepath=save_path_weights, \n",
    "                               verbose=1, save_best_only=True)\n",
    "\n",
    "\n",
    "# Verbose=0 -> to avoid jupyter notebook freezing\n",
    "history = model.fit(input_train, y_train, \n",
    "                    epochs = 3, batch_size = 64, \n",
    "                    validation_split = 0.2,verbose=1)"
   ]
  },
  {
   "cell_type": "code",
   "execution_count": 7,
   "metadata": {},
   "outputs": [
    {
     "data": {
      "image/png": "[encoded data removed]",
      "text/plain": [
       "<Figure size 432x288 with 1 Axes>"
      ]
     },
     "metadata": {
      "needs_background": "light"
     },
     "output_type": "display_data"
    },
    {
     "data": {
      "image/png": "[encoded data removed]",
      "text/plain": [
       "<Figure size 432x288 with 1 Axes>"
      ]
     },
     "metadata": {
      "needs_background": "light"
     },
     "output_type": "display_data"
    }
   ],
   "source": [
    "# --- Plotting performance ---\n",
    "acc = history.history['acc']\n",
    "val_acc = history.history['val_acc']\n",
    "loss = history.history['loss']\n",
    "val_loss = history.history['val_loss']\n",
    "\n",
    "epochs = range(1, len(acc) + 1)\n",
    "\n",
    "plt.plot(epochs, acc, 'bo', label = 'Training acc')\n",
    "plt.plot(epochs, val_acc, 'b', label = 'Validation acc')\n",
    "plt.title('Training and validation accuracy')\n",
    "plt.legend()\n",
    "\n",
    "plt.figure()\n",
    "\n",
    "plt.plot(epochs, loss, 'bo', label = 'Training Loss')\n",
    "plt.plot(epochs, val_loss, 'b', label = 'Validation Loss')\n",
    "plt.title('Training and validation Loss')\n",
    "plt.legend()\n",
    "\n",
    "plt.show()"
   ]
  },
  {
   "cell_type": "code",
   "execution_count": 8,
   "metadata": {},
   "outputs": [],
   "source": [
    "# --- Save Model ---\n",
    "# Saves as an HDF5 file\n",
    "model.save(save_path_model) "
   ]
  },
  {
   "cell_type": "code",
   "execution_count": 9,
   "metadata": {},
   "outputs": [],
   "source": [
    "# --- Loading the model ---\n",
    "# There are two appraoches to load models\n",
    "#    1. Store only the weights \n",
    "#    2. Store the model + weights\n",
    "\n",
    "# - Method 1: Weights -\n",
    "#model = create_model()\n",
    "# Note we are loading the weights back into the model\n",
    "# that is the model still needs to be instantiated\n",
    "# model.load_weights(os.path.join(cwd,'rnn_model.h5'))\n",
    "\n",
    "# - Method 2: Recall entire model -\n",
    "from keras.models import load_model\n",
    "model = load_model(save_path_model)"
   ]
  },
  {
   "cell_type": "code",
   "execution_count": 10,
   "metadata": {},
   "outputs": [
    {
     "name": "stdout",
     "output_type": "stream",
     "text": [
      "Word at index 5:to\n"
     ]
    },
    {
     "data": {
      "text/plain": [
       "\"that plays over and over again in almost every scene there is trashy music boobs and ? taking away bodies and the gym still doesn't close for ? all joking aside this is a truly bad film whose only charm is to look back on the disaster that was the 80's and have a good old laugh at how bad everything was back then\""
      ]
     },
     "execution_count": 10,
     "metadata": {},
     "output_type": "execute_result"
    }
   ],
   "source": [
    "# --- Getting the right format ---\n",
    "# Recall:\n",
    "#     - The input_train is a matrix of indeces for words\n",
    "#     - The first 3 elements are reserved characters\n",
    "\n",
    "# Word-index key\n",
    "word_index = imdb.get_word_index()\n",
    "reverse_word_index = dict([(value, key) for (key,value) in word_index.items()])\n",
    "reverse_word_index\n",
    "#.get(key, default return)\n",
    "print('Word at index 5:' + str( reverse_word_index.get(5,'?'))) \n",
    "\n",
    "# Decoding the sentence\n",
    "decoded_imdb = ' '.join([reverse_word_index.get(i-3,'?') for i in input_train[1]])\n",
    "decoded_imdb"
   ]
  },
  {
   "cell_type": "code",
   "execution_count": 11,
   "metadata": {},
   "outputs": [
    {
     "data": {
      "text/plain": [
       "array([[0],\n",
       "       [1]])"
      ]
     },
     "execution_count": 11,
     "metadata": {},
     "output_type": "execute_result"
    }
   ],
   "source": [
    "# --- Predicting a value ---\n",
    "new_input = [word_index.get(i,'?') for i in 'this was a good good movie'.split()]\n",
    "value_in = sequence.pad_sequences([new_input], maxlen = maxlen)\n",
    "test_values = np.append([input_test[0]],value_in , axis = 0)\n",
    "model.predict_classes(test_values)\n",
    "#input_train[1]"
   ]
  },
  {
   "cell_type": "code",
   "execution_count": 12,
   "metadata": {},
   "outputs": [
    {
     "name": "stdout",
     "output_type": "stream",
     "text": [
      "_________________________________________________________________\n",
      "Layer (type)                 Output Shape              Param #   \n",
      "=================================================================\n",
      "embedding_2 (Embedding)      (None, None, 32)          320000    \n",
      "_________________________________________________________________\n",
      "simple_rnn_1 (SimpleRNN)     (None, None, 32)          2080      \n",
      "_________________________________________________________________\n",
      "simple_rnn_2 (SimpleRNN)     (None, None, 32)          2080      \n",
      "_________________________________________________________________\n",
      "simple_rnn_3 (SimpleRNN)     (None, 32)                2080      \n",
      "_________________________________________________________________\n",
      "dense_2 (Dense)              (None, 1)                 33        \n",
      "=================================================================\n",
      "Total params: 326,273\n",
      "Trainable params: 326,273\n",
      "Non-trainable params: 0\n",
      "_________________________________________________________________\n"
     ]
    }
   ],
   "source": [
    "# ===========================================\n",
    "# - Training model: Embedding + Stacked RNN -\n",
    "# ===========================================\n",
    "\n",
    "# =====================================================\n",
    "# Exercise does a stacked unit give you better results?\n",
    "# =====================================================\n",
    "model_stacked_rnn = Sequential()\n",
    "model_stacked_rnn.add(Embedding(max_features, 32))\n",
    "model_stacked_rnn.add(SimpleRNN(32, return_sequences = True))\n",
    "model_stacked_rnn.add(SimpleRNN(32, return_sequences = True))\n",
    "model_stacked_rnn.add(SimpleRNN(32))\n",
    "model_stacked_rnn.add(Dense(1, activation ='sigmoid'))\n",
    "\n",
    "model_stacked_rnn.summary()"
   ]
  },
  {
   "cell_type": "code",
   "execution_count": 13,
   "metadata": {},
   "outputs": [
    {
     "data": {
      "image/svg+xml": [
       "<svg height=\"410pt\" viewBox=\"0.00 0.00 175.00 410.00\" width=\"175pt\" xmlns=\"http://www.w3.org/2000/svg\" xmlns:xlink=\"http://www.w3.org/1999/xlink\">\n",
       "<g class=\"graph\" id=\"graph0\" transform=\"scale(1 1) rotate(0) translate(4 406)\">\n",
       "<title>G</title>\n",
       "<polygon fill=\"white\" points=\"-4,4 -4,-406 171,-406 171,4 -4,4\" stroke=\"none\"/>\n",
       "<!-- 2010472864792 -->\n",
       "<g class=\"node\" id=\"node1\"><title>2010472864792</title>\n",
       "<polygon fill=\"none\" points=\"2,-292.5 2,-328.5 165,-328.5 165,-292.5 2,-292.5\" stroke=\"black\"/>\n",
       "<text font-family=\"Times New Roman,serif\" font-size=\"14.00\" text-anchor=\"middle\" x=\"83.5\" y=\"-306.8\">embedding_2: Embedding</text>\n",
       "</g>\n",
       "<!-- 2010506632496 -->\n",
       "<g class=\"node\" id=\"node2\"><title>2010506632496</title>\n",
       "<polygon fill=\"none\" points=\"0,-219.5 0,-255.5 167,-255.5 167,-219.5 0,-219.5\" stroke=\"black\"/>\n",
       "<text font-family=\"Times New Roman,serif\" font-size=\"14.00\" text-anchor=\"middle\" x=\"83.5\" y=\"-233.8\">simple_rnn_1: SimpleRNN</text>\n",
       "</g>\n",
       "<!-- 2010472864792&#45;&gt;2010506632496 -->\n",
       "<g class=\"edge\" id=\"edge2\"><title>2010472864792-&gt;2010506632496</title>\n",
       "<path d=\"M83.5,-292.313C83.5,-284.289 83.5,-274.547 83.5,-265.569\" fill=\"none\" stroke=\"black\"/>\n",
       "<polygon fill=\"black\" points=\"87.0001,-265.529 83.5,-255.529 80.0001,-265.529 87.0001,-265.529\" stroke=\"black\"/>\n",
       "</g>\n",
       "<!-- 2010506632720 -->\n",
       "<g class=\"node\" id=\"node3\"><title>2010506632720</title>\n",
       "<polygon fill=\"none\" points=\"0,-146.5 0,-182.5 167,-182.5 167,-146.5 0,-146.5\" stroke=\"black\"/>\n",
       "<text font-family=\"Times New Roman,serif\" font-size=\"14.00\" text-anchor=\"middle\" x=\"83.5\" y=\"-160.8\">simple_rnn_2: SimpleRNN</text>\n",
       "</g>\n",
       "<!-- 2010506632496&#45;&gt;2010506632720 -->\n",
       "<g class=\"edge\" id=\"edge3\"><title>2010506632496-&gt;2010506632720</title>\n",
       "<path d=\"M83.5,-219.313C83.5,-211.289 83.5,-201.547 83.5,-192.569\" fill=\"none\" stroke=\"black\"/>\n",
       "<polygon fill=\"black\" points=\"87.0001,-192.529 83.5,-182.529 80.0001,-192.529 87.0001,-192.529\" stroke=\"black\"/>\n",
       "</g>\n",
       "<!-- 2010506689896 -->\n",
       "<g class=\"node\" id=\"node4\"><title>2010506689896</title>\n",
       "<polygon fill=\"none\" points=\"0,-73.5 0,-109.5 167,-109.5 167,-73.5 0,-73.5\" stroke=\"black\"/>\n",
       "<text font-family=\"Times New Roman,serif\" font-size=\"14.00\" text-anchor=\"middle\" x=\"83.5\" y=\"-87.8\">simple_rnn_3: SimpleRNN</text>\n",
       "</g>\n",
       "<!-- 2010506632720&#45;&gt;2010506689896 -->\n",
       "<g class=\"edge\" id=\"edge4\"><title>2010506632720-&gt;2010506689896</title>\n",
       "<path d=\"M83.5,-146.313C83.5,-138.289 83.5,-128.547 83.5,-119.569\" fill=\"none\" stroke=\"black\"/>\n",
       "<polygon fill=\"black\" points=\"87.0001,-119.529 83.5,-109.529 80.0001,-119.529 87.0001,-119.529\" stroke=\"black\"/>\n",
       "</g>\n",
       "<!-- 2010504966944 -->\n",
       "<g class=\"node\" id=\"node5\"><title>2010504966944</title>\n",
       "<polygon fill=\"none\" points=\"31.5,-0.5 31.5,-36.5 135.5,-36.5 135.5,-0.5 31.5,-0.5\" stroke=\"black\"/>\n",
       "<text font-family=\"Times New Roman,serif\" font-size=\"14.00\" text-anchor=\"middle\" x=\"83.5\" y=\"-14.8\">dense_2: Dense</text>\n",
       "</g>\n",
       "<!-- 2010506689896&#45;&gt;2010504966944 -->\n",
       "<g class=\"edge\" id=\"edge5\"><title>2010506689896-&gt;2010504966944</title>\n",
       "<path d=\"M83.5,-73.3129C83.5,-65.2895 83.5,-55.5475 83.5,-46.5691\" fill=\"none\" stroke=\"black\"/>\n",
       "<polygon fill=\"black\" points=\"87.0001,-46.5288 83.5,-36.5288 80.0001,-46.5289 87.0001,-46.5288\" stroke=\"black\"/>\n",
       "</g>\n",
       "<!-- 2010506632608 -->\n",
       "<g class=\"node\" id=\"node6\"><title>2010506632608</title>\n",
       "<polygon fill=\"none\" points=\"31.5,-365.5 31.5,-401.5 135.5,-401.5 135.5,-365.5 31.5,-365.5\" stroke=\"black\"/>\n",
       "<text font-family=\"Times New Roman,serif\" font-size=\"14.00\" text-anchor=\"middle\" x=\"83.5\" y=\"-379.8\">2010506632608</text>\n",
       "</g>\n",
       "<!-- 2010506632608&#45;&gt;2010472864792 -->\n",
       "<g class=\"edge\" id=\"edge1\"><title>2010506632608-&gt;2010472864792</title>\n",
       "<path d=\"M83.5,-365.313C83.5,-357.289 83.5,-347.547 83.5,-338.569\" fill=\"none\" stroke=\"black\"/>\n",
       "<polygon fill=\"black\" points=\"87.0001,-338.529 83.5,-328.529 80.0001,-338.529 87.0001,-338.529\" stroke=\"black\"/>\n",
       "</g>\n",
       "</g>\n",
       "</svg>"
      ],
      "text/plain": [
       "<IPython.core.display.SVG object>"
      ]
     },
     "metadata": {},
     "output_type": "display_data"
    }
   ],
   "source": [
    "# - Visualizing the model -\n",
    "show_model_now = True\n",
    "if (show_model_now):\n",
    "    display(SVG(model_to_dot(model_stacked_rnn).create(prog='dot', format='svg')))\n",
    "else:\n",
    "    plot_model(model_stacked_rnn, \n",
    "               to_file=os.path.join(cwd,'model_stacked_rnn.png'))"
   ]
  },
  {
   "cell_type": "code",
   "execution_count": 14,
   "metadata": {},
   "outputs": [
    {
     "data": {
      "text/plain": [
       "<keras.callbacks.History at 0x1d41b488e80>"
      ]
     },
     "execution_count": 14,
     "metadata": {},
     "output_type": "execute_result"
    }
   ],
   "source": [
    "#Compile model\n",
    "model_stacked_rnn.compile(optimizer = 'rmsprop',\n",
    "             loss = 'binary_crossentropy',\n",
    "             metrics=['acc'])\n",
    "\n",
    "#To run tensboard use the following command in another terminal:\n",
    "# tensorboard --logdir=logsTB/\n",
    "tensorboard = TensorBoard(log_dir=os.path.join(cwd,'logsTB'), \n",
    "                           histogram_freq=1, write_graph=True, write_images=False)\n",
    "model_stacked_rnn.fit(input_train, y_train, \n",
    "          epochs = 5, batch_size = 64, \n",
    "          callbacks=[tensorboard],\n",
    "          validation_split = 0.2,verbose=0\n",
    "          )"
   ]
  }
 ],
 "metadata": {
  "kernelspec": {
   "display_name": "Python 3",
   "language": "python",
   "name": "python3"
  },
  "language_info": {
   "codemirror_mode": {
    "name": "ipython",
    "version": 3
   },
   "file_extension": ".py",
   "mimetype": "text/x-python",
   "name": "python",
   "nbconvert_exporter": "python",
   "pygments_lexer": "ipython3",
   "version": "3.6.7"
  },
  "toc": {
   "base_numbering": 1,
   "nav_menu": {},
   "number_sections": true,
   "sideBar": true,
   "skip_h1_title": false,
   "title_cell": "Table of Contents",
   "title_sidebar": "Contents",
   "toc_cell": false,
   "toc_position": {},
   "toc_section_display": true,
   "toc_window_display": false
  }
 },
 "nbformat": 4,
 "nbformat_minor": 2
}
