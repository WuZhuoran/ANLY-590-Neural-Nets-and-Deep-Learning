{
 "cells": [
  {
   "cell_type": "markdown",
   "metadata": {},
   "source": [
    "# Honor Statement\n",
    "\n",
    "Name: Zhuoran Wu\n",
    "\n",
    "E-mail: <zw118@georgetown.edu>\n",
    "\n",
    "Platform: Windows\n",
    "\n",
    "In accordance with the class policies and Georgetown's Honor Code,\n",
    "I certify that, with the exceptions of the class resources and those\n",
    "items noted below, I have neither given nor received any assistance\n",
    "on this project."
   ]
  },
  {
   "cell_type": "code",
   "execution_count": 41,
   "metadata": {},
   "outputs": [],
   "source": [
    "# Import Library\n",
    "\n",
    "%matplotlib inline\n",
    "\n",
    "import numpy as np\n",
    "import tensorflow as tf\n",
    "import pandas as pd\n",
    "import matplotlib.pyplot as plt\n",
    "import skimage\n",
    "import itertools\n",
    "\n",
    "from string import printable\n",
    "from keras import backend as K\n",
    "from skimage.transform import resize\n",
    "from keras.datasets import fashion_mnist\n",
    "from keras import regularizers\n",
    "from keras.models import Sequential, Model\n",
    "from keras.layers import Embedding, LSTM, Dense, Dropout, Activation, Flatten, Input, Conv2D, MaxPooling2D, UpSampling2D\n",
    "from keras.layers import BatchNormalization, Lambda, Convolution1D, Convolution2D, ELU, concatenate\n",
    "from keras.utils import np_utils\n",
    "from keras.applications.vgg16 import VGG16, preprocess_input, decode_predictions\n",
    "from keras.preprocessing import image\n",
    "from keras.preprocessing.image import img_to_array, array_to_img\n",
    "from keras.preprocessing.text import Tokenizer\n",
    "from keras.preprocessing.sequence import pad_sequences\n",
    "from sklearn.model_selection import train_test_split\n",
    "from sklearn.feature_extraction.text import CountVectorizer\n",
    "from sklearn.metrics import roc_curve, auc\n",
    "from keras.optimizers import SGD, Adam, RMSprop\n",
    "\n",
    "import warnings\n",
    "warnings.filterwarnings(\"ignore\")"
   ]
  },
  {
   "cell_type": "markdown",
   "metadata": {},
   "source": [
    "# 1 Autoencoder\n",
    "\n",
    "A convolutional autoencoder is a particular flavor of autoencoder where we use convolutional layers instead of dense layers. We have previously applied autoencoders to images using only Dense layers and the result worked fairly well. However, the local spatial correlations of images imply that we should be able to do better using convolutional layers instead of Dense layers.\n",
    "\n",
    "Build and fit a convolutional autoencoder for the Fashion MNIST dataset. The components of this network will be many of the same pieces we've used with convolutional classification networks: Conv2D, MaxPooling, and so on. The encoder part of the network should run the input image through a few convolutional layers of your choice. The decoder part of the network will utilize UpSampling2D to get the representation back to the original image size.\n",
    "\n",
    "An example to guide your thinking can be found toward the bottom of this\n",
    "post https://blog.keras.io/building-autoencoders-in-keras.html.\n",
    "\n",
    "After training your network, visualize some examples of input images and\n",
    "their decoded reconstruction."
   ]
  },
  {
   "cell_type": "code",
   "execution_count": 42,
   "metadata": {},
   "outputs": [],
   "source": [
    "# Autoencoder\n",
    "\n",
    "(x_train, y_train), (x_test, y_test) = fashion_mnist.load_data()\n",
    "\n",
    "x_train = np.reshape(x_train, (len(x_train), 28, 28, 1))\n",
    "x_test = np.reshape(x_test, (len(x_test), 28, 28, 1))\n",
    "\n",
    "# Data normalization\n",
    "\n",
    "x_train = x_train.astype('float32') / 255\n",
    "x_test = x_test.astype('float32') / 255\n",
    "\n",
    "y_train = np_utils.to_categorical(y_train, 10)\n",
    "y_test = np_utils.to_categorical(y_test, 10)"
   ]
  },
  {
   "cell_type": "code",
   "execution_count": 43,
   "metadata": {},
   "outputs": [
    {
     "name": "stdout",
     "output_type": "stream",
     "text": [
      "_________________________________________________________________\n",
      "Layer (type)                 Output Shape              Param #   \n",
      "=================================================================\n",
      "input_1 (InputLayer)         (None, 28, 28, 1)         0         \n",
      "_________________________________________________________________\n",
      "conv2d_1 (Conv2D)            (None, 28, 28, 32)        288       \n",
      "_________________________________________________________________\n",
      "batch_normalization_5 (Batch (None, 28, 28, 32)        128       \n",
      "_________________________________________________________________\n",
      "max_pooling2d_1 (MaxPooling2 (None, 14, 14, 32)        0         \n",
      "_________________________________________________________________\n",
      "conv2d_2 (Conv2D)            (None, 14, 14, 16)        4608      \n",
      "_________________________________________________________________\n",
      "batch_normalization_6 (Batch (None, 14, 14, 16)        64        \n",
      "_________________________________________________________________\n",
      "max_pooling2d_2 (MaxPooling2 (None, 7, 7, 16)          0         \n",
      "_________________________________________________________________\n",
      "conv2d_3 (Conv2D)            (None, 7, 7, 16)          2304      \n",
      "_________________________________________________________________\n",
      "batch_normalization_7 (Batch (None, 7, 7, 16)          64        \n",
      "_________________________________________________________________\n",
      "max_pooling2d_3 (MaxPooling2 (None, 4, 4, 16)          0         \n",
      "_________________________________________________________________\n",
      "conv2d_4 (Conv2D)            (None, 4, 4, 16)          2304      \n",
      "_________________________________________________________________\n",
      "batch_normalization_8 (Batch (None, 4, 4, 16)          64        \n",
      "_________________________________________________________________\n",
      "up_sampling2d_1 (UpSampling2 (None, 8, 8, 16)          0         \n",
      "_________________________________________________________________\n",
      "conv2d_5 (Conv2D)            (None, 8, 8, 16)          2304      \n",
      "_________________________________________________________________\n",
      "batch_normalization_9 (Batch (None, 8, 8, 16)          64        \n",
      "_________________________________________________________________\n",
      "up_sampling2d_2 (UpSampling2 (None, 16, 16, 16)        0         \n",
      "_________________________________________________________________\n",
      "conv2d_6 (Conv2D)            (None, 14, 14, 32)        4608      \n",
      "_________________________________________________________________\n",
      "batch_normalization_10 (Batc (None, 14, 14, 32)        128       \n",
      "_________________________________________________________________\n",
      "up_sampling2d_3 (UpSampling2 (None, 28, 28, 32)        0         \n",
      "_________________________________________________________________\n",
      "conv2d_7 (Conv2D)            (None, 28, 28, 1)         288       \n",
      "=================================================================\n",
      "Total params: 17,216\n",
      "Trainable params: 16,960\n",
      "Non-trainable params: 256\n",
      "_________________________________________________________________\n"
     ]
    }
   ],
   "source": [
    "input_img = Input(shape=(28, 28, 1))\n",
    "\n",
    "x = Conv2D(32, (3, 3), activation='relu', padding='same', use_bias=False)(input_img)\n",
    "x = BatchNormalization(axis=-1)(x)\n",
    "x = MaxPooling2D((2, 2), padding='same')(x)\n",
    "x = Conv2D(16, (3, 3), activation='relu', padding='same', use_bias=False)(x)\n",
    "x = BatchNormalization(axis=-1)(x)\n",
    "x = MaxPooling2D((2, 2), padding='same')(x)\n",
    "x = Conv2D(16, (3, 3), activation='relu', padding='same', use_bias=False)(x)\n",
    "x = BatchNormalization(axis=-1)(x)\n",
    "encoded = MaxPooling2D((2, 2), padding='same')(x)\n",
    "\n",
    "x = Conv2D(16, (3, 3), activation='relu', padding='same', use_bias=False)(encoded)\n",
    "x = BatchNormalization(axis=-1)(x)\n",
    "x = UpSampling2D((2, 2))(x)\n",
    "x = Conv2D(16, (3, 3), activation='relu', padding='same', use_bias=False)(x)\n",
    "x = BatchNormalization(axis=-1)(x)\n",
    "x = UpSampling2D((2, 2))(x)\n",
    "x = Conv2D(32, (3, 3), activation='relu', padding='valid', use_bias=False)(x)\n",
    "x = BatchNormalization(axis=-1)(x)\n",
    "x = UpSampling2D((2, 2))(x)\n",
    "decoded = Conv2D(1, (3, 3), activation='sigmoid', padding='same', use_bias=False)(x)\n",
    "\n",
    "autoencoder = Model(input_img, decoded)\n",
    "autoencoder.summary()\n",
    "autoencoder.compile(optimizer='rmsprop', loss='binary_crossentropy')"
   ]
  },
  {
   "cell_type": "code",
   "execution_count": 46,
   "metadata": {},
   "outputs": [
    {
     "name": "stdout",
     "output_type": "stream",
     "text": [
      "Train on 60000 samples, validate on 10000 samples\n",
      "Epoch 1/3\n",
      "60000/60000 [==============================] - 323s 5ms/step - loss: 0.2851 - val_loss: 0.2848\n",
      "Epoch 2/3\n",
      "60000/60000 [==============================] - 315s 5ms/step - loss: 0.2807 - val_loss: 0.2795\n",
      "Epoch 3/3\n",
      "60000/60000 [==============================] - 319s 5ms/step - loss: 0.2781 - val_loss: 0.2776\n"
     ]
    }
   ],
   "source": [
    "autoencoder_history = autoencoder.fit(x_train, x_train,\n",
    "                                      epochs=3,\n",
    "                                      batch_size=64,\n",
    "                                      validation_data=(x_test, x_test))"
   ]
  },
  {
   "cell_type": "code",
   "execution_count": 47,
   "metadata": {},
   "outputs": [
    {
     "data": {
      "image/png": "[encoded data removed]",
      "text/plain": [
       "<Figure size 432x288 with 1 Axes>"
      ]
     },
     "metadata": {
      "needs_background": "light"
     },
     "output_type": "display_data"
    }
   ],
   "source": [
    "# Evaluate\n",
    "\n",
    "def plot_train_history_loss(history):\n",
    "    # summarize history for loss\n",
    "    plt.plot(history.history['loss'])\n",
    "    plt.plot(history.history['val_loss'])\n",
    "    plt.title('model loss')\n",
    "    plt.ylabel('loss')\n",
    "    plt.xlabel('epoch')\n",
    "    plt.legend(['train', 'test'], loc='upper right')\n",
    "    plt.show()\n",
    "\n",
    "plot_train_history_loss(autoencoder_history)"
   ]
  },
  {
   "cell_type": "code",
   "execution_count": 48,
   "metadata": {},
   "outputs": [
    {
     "data": {
      "image/png": "[encoded data removed]",
      "text/plain": [
       "<Figure size 1440x288 with 20 Axes>"
      ]
     },
     "metadata": {
      "needs_background": "light"
     },
     "output_type": "display_data"
    }
   ],
   "source": [
    "# Display original and reconstruction Images\n",
    "\n",
    "decoded_imgs = autoencoder.predict(x_test)\n",
    "\n",
    "def display_reconstructed(x_test, decoded_imgs, n=10):\n",
    "    plt.figure(figsize=(20, 4))\n",
    "    for i in range(n):\n",
    "        # display original\n",
    "        ax = plt.subplot(2, n, i + 1)\n",
    "        plt.imshow(x_test[-i].reshape(28, 28))\n",
    "        plt.gray()\n",
    "        ax.get_xaxis().set_visible(False)\n",
    "        ax.get_yaxis().set_visible(False)\n",
    "\n",
    "        if decoded_imgs is not None:\n",
    "            # display reconstruction\n",
    "            ax = plt.subplot(2, n, i + 1 + n)\n",
    "            plt.imshow(decoded_imgs[-i].reshape(28, 28))\n",
    "            plt.gray()\n",
    "            ax.get_xaxis().set_visible(False)\n",
    "            ax.get_yaxis().set_visible(False)\n",
    "    plt.show()\n",
    "\n",
    "display_reconstructed(x_test, decoded_imgs, 10)"
   ]
  },
  {
   "cell_type": "markdown",
   "metadata": {},
   "source": [
    "# 2 Image Classification\n",
    "\n",
    "We'll continue to use the Fashion MNIST dataset and build a deep convolutional\n",
    "network for classification.\n",
    "\n",
    "## 2.1 Deep CNN\n",
    "\n",
    "Build a deep CNN to classify the images. Provide a brief description of the\n",
    "architectural choices you've made: kernel sizes, strides, padding, network depth.\n",
    "Train your network end-to-end. Report on your model's performance on training\n",
    "set and test set.\n",
    "\n",
    "## 2.2 Transfer Learning\n",
    "\n",
    "Repeat the same task, but this time utilize a pre-trained network for the major-\n",
    "ity of your model. You should only train the final Dense layer, all other weights should be fixed. You can use whichever pre-trained backbone you like (ResNet,VGG, etc). Report on your model's performance on training set and test set."
   ]
  },
  {
   "cell_type": "code",
   "execution_count": 49,
   "metadata": {},
   "outputs": [
    {
     "name": "stdout",
     "output_type": "stream",
     "text": [
      "_________________________________________________________________\n",
      "Layer (type)                 Output Shape              Param #   \n",
      "=================================================================\n",
      "conv2d_8 (Conv2D)            (None, 28, 28, 64)        320       \n",
      "_________________________________________________________________\n",
      "max_pooling2d_4 (MaxPooling2 (None, 14, 14, 64)        0         \n",
      "_________________________________________________________________\n",
      "dropout_24 (Dropout)         (None, 14, 14, 64)        0         \n",
      "_________________________________________________________________\n",
      "conv2d_9 (Conv2D)            (None, 14, 14, 32)        8224      \n",
      "_________________________________________________________________\n",
      "max_pooling2d_5 (MaxPooling2 (None, 7, 7, 32)          0         \n",
      "_________________________________________________________________\n",
      "dropout_25 (Dropout)         (None, 7, 7, 32)          0         \n",
      "_________________________________________________________________\n",
      "flatten_1 (Flatten)          (None, 1568)              0         \n",
      "_________________________________________________________________\n",
      "dense_5 (Dense)              (None, 256)               401664    \n",
      "_________________________________________________________________\n",
      "dropout_26 (Dropout)         (None, 256)               0         \n",
      "_________________________________________________________________\n",
      "dense_6 (Dense)              (None, 10)                2570      \n",
      "=================================================================\n",
      "Total params: 412,778\n",
      "Trainable params: 412,778\n",
      "Non-trainable params: 0\n",
      "_________________________________________________________________\n"
     ]
    }
   ],
   "source": [
    "# Deep CNN\n",
    "\n",
    "(x_train, y_train), (x_test, y_test) = fashion_mnist.load_data()\n",
    "\n",
    "x_train = x_train.reshape(x_train.shape[0], 28, 28,1)\n",
    "x_test = x_test.reshape(x_test.shape[0], 28, 28,1)\n",
    "\n",
    "# Data normalization\n",
    "\n",
    "x_train = x_train.astype('float32') / 255\n",
    "x_test = x_test.astype('float32') / 255\n",
    "\n",
    "y_train = np_utils.to_categorical(y_train, 10)\n",
    "y_test = np_utils.to_categorical(y_test, 10)\n",
    "\n",
    "model = Sequential()\n",
    "# Must define the input shape in the first layer of the neural network\n",
    "model.add(Conv2D(filters=64, kernel_size=2, padding='same', activation='relu', input_shape=(28,28,1))) \n",
    "model.add(MaxPooling2D(pool_size=2))\n",
    "model.add(Dropout(0.3))\n",
    "model.add(Conv2D(filters=32, kernel_size=2, padding='same', activation='relu'))\n",
    "model.add(MaxPooling2D(pool_size=2))\n",
    "model.add(Dropout(0.3))\n",
    "model.add(Flatten())\n",
    "model.add(Dense(256, activation='relu'))\n",
    "model.add(Dropout(0.5))\n",
    "model.add(Dense(10, activation='softmax'))\n",
    "# Take a look at the model summary\n",
    "model.summary()\n",
    "\n",
    "model.compile(loss='categorical_crossentropy',\n",
    "             optimizer='adam',\n",
    "             metrics=['accuracy'])"
   ]
  },
  {
   "cell_type": "code",
   "execution_count": 27,
   "metadata": {},
   "outputs": [
    {
     "name": "stdout",
     "output_type": "stream",
     "text": [
      "Train on 60000 samples, validate on 10000 samples\n",
      "Epoch 1/10\n",
      "60000/60000 [==============================] - 76s 1ms/step - loss: 0.5903 - acc: 0.7836 - val_loss: 0.3974 - val_acc: 0.8525\n",
      "Epoch 2/10\n",
      "60000/60000 [==============================] - 77s 1ms/step - loss: 0.4107 - acc: 0.8516 - val_loss: 0.3296 - val_acc: 0.8819\n",
      "Epoch 3/10\n",
      "60000/60000 [==============================] - 78s 1ms/step - loss: 0.3650 - acc: 0.8671 - val_loss: 0.3007 - val_acc: 0.8896\n",
      "Epoch 4/10\n",
      "60000/60000 [==============================] - 89s 1ms/step - loss: 0.3379 - acc: 0.8764 - val_loss: 0.2911 - val_acc: 0.8924\n",
      "Epoch 5/10\n",
      "60000/60000 [==============================] - 89s 1ms/step - loss: 0.3202 - acc: 0.8823 - val_loss: 0.2795 - val_acc: 0.8976\n",
      "Epoch 6/10\n",
      "60000/60000 [==============================] - 97s 2ms/step - loss: 0.3031 - acc: 0.8890 - val_loss: 0.2751 - val_acc: 0.8979\n",
      "Epoch 7/10\n",
      "60000/60000 [==============================] - 91s 2ms/step - loss: 0.2899 - acc: 0.8931 - val_loss: 0.2608 - val_acc: 0.9034\n",
      "Epoch 8/10\n",
      "60000/60000 [==============================] - 90s 2ms/step - loss: 0.2760 - acc: 0.8970 - val_loss: 0.2615 - val_acc: 0.9045\n",
      "Epoch 9/10\n",
      "60000/60000 [==============================] - 93s 2ms/step - loss: 0.2702 - acc: 0.8999 - val_loss: 0.2568 - val_acc: 0.9031\n",
      "Epoch 10/10\n",
      "60000/60000 [==============================] - 92s 2ms/step - loss: 0.2625 - acc: 0.9032 - val_loss: 0.2516 - val_acc: 0.9094\n"
     ]
    }
   ],
   "source": [
    "deep_cnn_history = model.fit(x_train,\n",
    "                             y_train,\n",
    "                             batch_size=64,\n",
    "                             epochs=10,\n",
    "                             validation_data=(x_test, y_test))"
   ]
  },
  {
   "cell_type": "code",
   "execution_count": 28,
   "metadata": {},
   "outputs": [
    {
     "name": "stdout",
     "output_type": "stream",
     "text": [
      "10000/10000 [==============================] - 3s 329us/step\n",
      "The test score: [0.2516078155398369, 0.9094]\n"
     ]
    },
    {
     "data": {
      "image/png": "[encoded data removed]",
      "text/plain": [
       "<matplotlib.figure.Figure at 0x1fc84346c88>"
      ]
     },
     "metadata": {},
     "output_type": "display_data"
    }
   ],
   "source": [
    "# Evaluate and Plot history\n",
    "\n",
    "score = model.evaluate(x_test, y_test, verbose=1)\n",
    "\n",
    "print(\"The test score: {acc}\".format(acc = score))\n",
    "\n",
    "\n",
    "def plot_train_history_loss(history):\n",
    "    # summarize history for loss\n",
    "    plt.plot(history.history['loss'])\n",
    "    plt.plot(history.history['val_loss'])\n",
    "    plt.title('model loss')\n",
    "    plt.ylabel('loss')\n",
    "    plt.xlabel('epoch')\n",
    "    plt.legend(['train', 'test'], loc='upper right')\n",
    "    plt.show()\n",
    "\n",
    "plot_train_history_loss(deep_cnn_history)"
   ]
  },
  {
   "cell_type": "code",
   "execution_count": 50,
   "metadata": {},
   "outputs": [],
   "source": [
    "# Transfer Learning\n",
    "\n",
    "(x_train, y_train), (x_test, y_test) = fashion_mnist.load_data()\n",
    "\n",
    "# Convert the images into 3 channels\n",
    "# x_train=np.dstack([x_train] * 3)\n",
    "# x_test=np.dstack([x_test]*3)\n",
    "\n",
    "x_train = x_train.reshape(x_train.shape[0],28,28,1).astype('float32')\n",
    "x_test = x_test.reshape(x_test.shape[0],28,28,1).astype('float32')\n",
    "\n",
    "x_train = x_train / 255\n",
    "x_test = x_test / 255\n",
    "\n",
    "#label for each image\n",
    "y_train = np_utils.to_categorical(y_train, 10)\n",
    "y_test = np_utils.to_categorical(y_test, 10)"
   ]
  },
  {
   "cell_type": "code",
   "execution_count": 59,
   "metadata": {},
   "outputs": [
    {
     "name": "stdout",
     "output_type": "stream",
     "text": [
      "_________________________________________________________________\n",
      "Layer (type)                 Output Shape              Param #   \n",
      "=================================================================\n",
      "input_3 (InputLayer)         (None, 48, 48)            0         \n",
      "_________________________________________________________________\n",
      "lambda_1 (Lambda)            (None, 48, 48, 3)         0         \n",
      "_________________________________________________________________\n",
      "block1_conv1 (Conv2D)        (None, 48, 48, 64)        1792      \n",
      "_________________________________________________________________\n",
      "block1_conv2 (Conv2D)        (None, 48, 48, 64)        36928     \n",
      "_________________________________________________________________\n",
      "block1_pool (MaxPooling2D)   (None, 24, 24, 64)        0         \n",
      "_________________________________________________________________\n",
      "block2_conv1 (Conv2D)        (None, 24, 24, 128)       73856     \n",
      "_________________________________________________________________\n",
      "block2_conv2 (Conv2D)        (None, 24, 24, 128)       147584    \n",
      "_________________________________________________________________\n",
      "block2_pool (MaxPooling2D)   (None, 12, 12, 128)       0         \n",
      "_________________________________________________________________\n",
      "block3_conv1 (Conv2D)        (None, 12, 12, 256)       295168    \n",
      "_________________________________________________________________\n",
      "block3_conv2 (Conv2D)        (None, 12, 12, 256)       590080    \n",
      "_________________________________________________________________\n",
      "block3_conv3 (Conv2D)        (None, 12, 12, 256)       590080    \n",
      "_________________________________________________________________\n",
      "block3_pool (MaxPooling2D)   (None, 6, 6, 256)         0         \n",
      "_________________________________________________________________\n",
      "block4_conv1 (Conv2D)        (None, 6, 6, 512)         1180160   \n",
      "_________________________________________________________________\n",
      "block4_conv2 (Conv2D)        (None, 6, 6, 512)         2359808   \n",
      "_________________________________________________________________\n",
      "block4_conv3 (Conv2D)        (None, 6, 6, 512)         2359808   \n",
      "_________________________________________________________________\n",
      "block4_pool (MaxPooling2D)   (None, 3, 3, 512)         0         \n",
      "_________________________________________________________________\n",
      "block5_conv1 (Conv2D)        (None, 3, 3, 512)         2359808   \n",
      "_________________________________________________________________\n",
      "block5_conv2 (Conv2D)        (None, 3, 3, 512)         2359808   \n",
      "_________________________________________________________________\n",
      "block5_conv3 (Conv2D)        (None, 3, 3, 512)         2359808   \n",
      "_________________________________________________________________\n",
      "block5_pool (MaxPooling2D)   (None, 1, 1, 512)         0         \n",
      "_________________________________________________________________\n",
      "global_max_pooling2d_1 (Glob (None, 512)               0         \n",
      "_________________________________________________________________\n",
      "dense_25 (Dense)             (None, 1024)              525312    \n",
      "_________________________________________________________________\n",
      "dropout_13 (Dropout)         (None, 1024)              0         \n",
      "_________________________________________________________________\n",
      "dense_26 (Dense)             (None, 1024)              1049600   \n",
      "_________________________________________________________________\n",
      "dense_27 (Dense)             (None, 10)                10250     \n",
      "=================================================================\n",
      "Total params: 16,299,850\n",
      "Trainable params: 6,304,778\n",
      "Non-trainable params: 9,995,072\n",
      "_________________________________________________________________\n"
     ]
    }
   ],
   "source": [
    "number_of_classes = y_test.shape[1]\n",
    "input_image = Input(shape=(48,48))\n",
    "inputs = Lambda(lambda x: K.repeat_elements(K.expand_dims(x,3),3,3))(input_image)\n",
    "vgg = VGG16(weights = \"imagenet\", include_top=False, input_tensor = inputs,pooling='max', classes=number_of_classes)\n",
    "#vgg.summary()\n",
    "\n",
    "for layer in vgg.layers[:17]:\n",
    "    layer.trainable = False\n",
    "\n",
    "x = vgg.output\n",
    "#x = Flatten()(x)\n",
    "x = Dense(1024, activation=\"relu\")(x)\n",
    "x = Dropout(0.5)(x)\n",
    "x = Dense(1024, activation=\"relu\")(x)\n",
    "predictions = Dense(number_of_classes, activation=\"softmax\")(x)\n",
    "\n",
    "# creating the final model \n",
    "final_model = Model(inputs = vgg.input, outputs = predictions)\n",
    "final_model.summary()"
   ]
  },
  {
   "cell_type": "code",
   "execution_count": null,
   "metadata": {},
   "outputs": [],
   "source": [
    "batch_size = 150\n",
    "epochs = 5\n",
    "#model = create_model()\n",
    "final_model.compile(optimizer='adam',loss='categorical_crossentropy',metrics=['accuracy'])\n",
    "history = final_model.fit(x_train_bis, y_train,\n",
    "                    batch_size=batch_size,\n",
    "                    epochs=epochs,\n",
    "                    verbose=1,\n",
    "                    validation_data=(x_test, y_test))"
   ]
  },
  {
   "cell_type": "code",
   "execution_count": null,
   "metadata": {},
   "outputs": [],
   "source": [
    "# Evaluate the model \n",
    "score = final_model.evaluate(x_test, y_test, verbose=0)\n",
    "print('Test Loss and Accuracy:', score)"
   ]
  },
  {
   "cell_type": "code",
   "execution_count": null,
   "metadata": {},
   "outputs": [],
   "source": [
    "# Accuracy visualization\n",
    "training_accuracy = history.history['acc']\n",
    "testing_accuracy = history.history['val_acc']\n",
    "plt.plot(training_accuracy)\n",
    "plt.plot(testing_accuracy)\n",
    "plt.title('Model accuracy')\n",
    "plt.legend(['training set', 'testing set'], loc='upper left')\n",
    "plt.ylabel('accuracy')\n",
    "plt.xlabel('epoch')\n",
    "plt.show()\n",
    "\n",
    "# Loss visualization\n",
    "\n",
    "training_loss = history.history['loss']\n",
    "testing_loss = history.history['val_loss']\n",
    "plt.plot(training_loss)\n",
    "plt.plot(testing_loss)\n",
    "plt.title('Model loss')\n",
    "plt.legend(['training set', 'testing set'], loc='upper left')\n",
    "plt.ylabel('loss')\n",
    "plt.xlabel('epoch')\n",
    "\n",
    "plt.show()"
   ]
  },
  {
   "cell_type": "markdown",
   "metadata": {},
   "source": [
    "# 3 Text Classification\n",
    "\n",
    "While images contain local spatial correlations and structure, many other datasets\n",
    "contain temporal correlations. Examples include time series and discrete se-\n",
    "quences such as text. In this problem, we will tackle the task of text classifica-\n",
    "tion in the context of cybersecurity.\n",
    "\n",
    "**Background.** When malware infects a host computer, it often needs to\n",
    "reach out to an outside server for further instructions or to download additional\n",
    "payloads. This outside server is called a Command-and-Control server (C2).\n",
    "The malware needs to send a specific communication to the C2 server, thus the\n",
    "C2 server needs to have a registered IP address or associated web domain so\n",
    "that it can be reached. Therefore, being able to identify web domains that are\n",
    "likely related to malware C2 can be a valuable cyber defense.\n",
    "\n",
    "**Dataset.** Fortunately, security researchers have already identified and logged\n",
    "a large number of malicious URLs. Additionally, we can catalog common \"be-\n",
    "nign\" URLs just from typical web behavior (these would include things like\n",
    "facebook.com and amazon.com). Hence, we have a labeled dataset for text\n",
    "classification which can be downloaded here:\n",
    "\n",
    "* https://s3.amazonaws.com/anly-590/url-classification/benign-urls.txt\n",
    "\n",
    "* https://s3.amazonaws.com/anly-590/url-classification/malicious-urls.txt\n",
    "\n",
    "\n",
    "## 3.1 RNN\n",
    "\n",
    "Build and train a Recurrent Neural Network to solve this text classification task.\n",
    "You can use any type of RNN you wish (SimpleRNN, GRU, LSTM).\n",
    "\n",
    "## 3.2 CNN\n",
    "\n",
    "Build and train a 1D CNN for this text classification task. You might gain some\n",
    "insight and inspiration from these text classification approaches:\n",
    "\n",
    "* http://www.aclweb.org/anthology/D14-1181\n",
    "\n",
    "* https://arxiv.org/abs/1702.08568\n",
    "\n",
    "## 3.3\n",
    "\n",
    "Be sure to directly compare your two methods with an ROC curve or similar\n",
    "validation method. Don't forget to create a train-test split."
   ]
  },
  {
   "cell_type": "code",
   "execution_count": 51,
   "metadata": {},
   "outputs": [],
   "source": [
    "# Text Classification\n",
    "\n",
    "# Load Malicious Url\n",
    "\n",
    "with open(\"malicious-urls.txt\") as files:\n",
    "    lines = files.readlines()\n",
    "mal_url_strings = [line.rstrip(\"\\n\\r\") for line in lines[0:]]\n",
    "\n",
    "with open(\"benign-urls.txt\") as files:\n",
    "    lines = files.readlines()\n",
    "ben_url_strings = [line.rstrip(\"\\n\\r\") for line in lines[0:] if \"#\" not in line]"
   ]
  },
  {
   "cell_type": "code",
   "execution_count": 52,
   "metadata": {},
   "outputs": [],
   "source": [
    "x_train = ben_url_strings + mal_url_strings\n",
    "y_train = np.concatenate( [ np.ones(len(ben_url_strings)), np.zeros(len(mal_url_strings)) ])"
   ]
  },
  {
   "cell_type": "code",
   "execution_count": 53,
   "metadata": {},
   "outputs": [
    {
     "name": "stdout",
     "output_type": "stream",
     "text": [
      "Matrix dimensions of X:  (67311, 75) Vector dimension of target:  (67311,)\n"
     ]
    }
   ],
   "source": [
    "df = pd.DataFrame({'urls':x_train, 'label':y_train})\n",
    "\n",
    "# Step 1: Convert raw URL string in list of lists where characters that are contained in \"printable\" are stored encoded as integer \n",
    "url_int_tokens = [[printable.index(x) + 1 for x in url if x in printable] for url in df.urls]\n",
    "\n",
    "# Step 2: Cut URL string at max_len or pad with zeros if shorter\n",
    "max_len=75\n",
    "X = pad_sequences(url_int_tokens, maxlen=max_len)\n",
    " \n",
    "# Step 3: Extract labels form df to numpy array\n",
    "target = np.array(df.label)\n",
    "\n",
    "print('Matrix dimensions of X: ', X.shape, 'Vector dimension of target: ', target.shape)"
   ]
  },
  {
   "cell_type": "code",
   "execution_count": 54,
   "metadata": {},
   "outputs": [],
   "source": [
    "X_train, X_test, target_train, target_test = train_test_split(X, target, test_size=0.25, random_state=33)"
   ]
  },
  {
   "cell_type": "code",
   "execution_count": 55,
   "metadata": {},
   "outputs": [
    {
     "name": "stdout",
     "output_type": "stream",
     "text": [
      "_________________________________________________________________\n",
      "Layer (type)                 Output Shape              Param #   \n",
      "=================================================================\n",
      "main_input (InputLayer)      (None, 75)                0         \n",
      "_________________________________________________________________\n",
      "embedding_8 (Embedding)      (None, 75, 32)            3200      \n",
      "_________________________________________________________________\n",
      "lstm_4 (LSTM)                (None, 32)                8320      \n",
      "_________________________________________________________________\n",
      "dropout_27 (Dropout)         (None, 32)                0         \n",
      "_________________________________________________________________\n",
      "output (Dense)               (None, 1)                 33        \n",
      "=================================================================\n",
      "Total params: 11,553\n",
      "Trainable params: 11,553\n",
      "Non-trainable params: 0\n",
      "_________________________________________________________________\n"
     ]
    }
   ],
   "source": [
    "# LSTM Model\n",
    "\n",
    "max_len=75\n",
    "emb_dim=32\n",
    "max_vocab_len=100\n",
    "lstm_output_size=32\n",
    "W_reg=regularizers.l2(1e-4)\n",
    "\n",
    "main_input = Input(shape=(max_len,), dtype='int32', name='main_input')\n",
    "# Embedding layer\n",
    "emb = Embedding(input_dim=max_vocab_len, output_dim=emb_dim, input_length=max_len,\n",
    "            dropout=0.2, W_regularizer=W_reg)(main_input) \n",
    "\n",
    "# LSTM layer\n",
    "lstm = LSTM(lstm_output_size)(emb)\n",
    "lstm = Dropout(0.5)(lstm)\n",
    "\n",
    "# Output layer (last fully connected layer)\n",
    "output = Dense(1, activation='sigmoid', name='output')(lstm)\n",
    "\n",
    "# Compile model and define optimizer\n",
    "model = Model(input=[main_input], output=[output])\n",
    "adam = Adam(lr=1e-4, beta_1=0.9, beta_2=0.999, epsilon=1e-08, decay=0.0)\n",
    "model.compile(optimizer=adam, loss='binary_crossentropy', metrics=['accuracy'])\n",
    "model.summary()"
   ]
  },
  {
   "cell_type": "code",
   "execution_count": 23,
   "metadata": {},
   "outputs": [
    {
     "name": "stdout",
     "output_type": "stream",
     "text": [
      "Epoch 1/3\n",
      "50483/50483 [==============================] - 65s 1ms/step - loss: 0.0466 - acc: 0.9812\n",
      "Epoch 2/3\n",
      "50483/50483 [==============================] - 66s 1ms/step - loss: 0.0365 - acc: 0.9813\n",
      "Epoch 3/3\n",
      "50483/50483 [==============================] - 64s 1ms/step - loss: 0.0309 - acc: 0.9832\n"
     ]
    },
    {
     "data": {
      "text/plain": [
       "<keras.callbacks.History at 0x23b721d72e8>"
      ]
     },
     "execution_count": 23,
     "metadata": {},
     "output_type": "execute_result"
    }
   ],
   "source": [
    "epochs = 3\n",
    "batch_size = 32\n",
    "\n",
    "model.fit(X_train, target_train, epochs=epochs, batch_size=batch_size)"
   ]
  },
  {
   "cell_type": "code",
   "execution_count": 24,
   "metadata": {},
   "outputs": [
    {
     "name": "stdout",
     "output_type": "stream",
     "text": [
      "16828/16828 [==============================] - 4s 216us/step\n",
      "\n",
      "Final Cross-Validation Accuracy 0.9831233658472093 \n",
      "\n"
     ]
    }
   ],
   "source": [
    "loss, accuracy = model.evaluate(X_test, target_test, verbose=1)\n",
    "print('\\nFinal Cross-Validation Accuracy', accuracy, '\\n')"
   ]
  },
  {
   "cell_type": "code",
   "execution_count": 56,
   "metadata": {},
   "outputs": [
    {
     "name": "stdout",
     "output_type": "stream",
     "text": [
      "__________________________________________________________________________________________________\n",
      "Layer (type)                    Output Shape         Param #     Connected to                     \n",
      "==================================================================================================\n",
      "main_input (InputLayer)         (None, 75)           0                                            \n",
      "__________________________________________________________________________________________________\n",
      "embedding_9 (Embedding)         (None, 75, 32)       3200        main_input[0][0]                 \n",
      "__________________________________________________________________________________________________\n",
      "dropout_28 (Dropout)            (None, 75, 32)       0           embedding_9[0][0]                \n",
      "__________________________________________________________________________________________________\n",
      "conv1d_13 (Conv1D)              (None, 75, 256)      16640       dropout_28[0][0]                 \n",
      "__________________________________________________________________________________________________\n",
      "conv1d_14 (Conv1D)              (None, 75, 256)      24832       dropout_28[0][0]                 \n",
      "__________________________________________________________________________________________________\n",
      "conv1d_15 (Conv1D)              (None, 75, 256)      33024       dropout_28[0][0]                 \n",
      "__________________________________________________________________________________________________\n",
      "conv1d_16 (Conv1D)              (None, 75, 256)      41216       dropout_28[0][0]                 \n",
      "__________________________________________________________________________________________________\n",
      "elu_17 (ELU)                    (None, 75, 256)      0           conv1d_13[0][0]                  \n",
      "__________________________________________________________________________________________________\n",
      "elu_18 (ELU)                    (None, 75, 256)      0           conv1d_14[0][0]                  \n",
      "__________________________________________________________________________________________________\n",
      "elu_19 (ELU)                    (None, 75, 256)      0           conv1d_15[0][0]                  \n",
      "__________________________________________________________________________________________________\n",
      "elu_20 (ELU)                    (None, 75, 256)      0           conv1d_16[0][0]                  \n",
      "__________________________________________________________________________________________________\n",
      "lambda_13 (Lambda)              (None, 256)          0           elu_17[0][0]                     \n",
      "__________________________________________________________________________________________________\n",
      "lambda_14 (Lambda)              (None, 256)          0           elu_18[0][0]                     \n",
      "__________________________________________________________________________________________________\n",
      "lambda_15 (Lambda)              (None, 256)          0           elu_19[0][0]                     \n",
      "__________________________________________________________________________________________________\n",
      "lambda_16 (Lambda)              (None, 256)          0           elu_20[0][0]                     \n",
      "__________________________________________________________________________________________________\n",
      "dropout_29 (Dropout)            (None, 256)          0           lambda_13[0][0]                  \n",
      "__________________________________________________________________________________________________\n",
      "dropout_30 (Dropout)            (None, 256)          0           lambda_14[0][0]                  \n",
      "__________________________________________________________________________________________________\n",
      "dropout_31 (Dropout)            (None, 256)          0           lambda_15[0][0]                  \n",
      "__________________________________________________________________________________________________\n",
      "dropout_32 (Dropout)            (None, 256)          0           lambda_16[0][0]                  \n",
      "__________________________________________________________________________________________________\n",
      "concatenate_3 (Concatenate)     (None, 1024)         0           dropout_29[0][0]                 \n",
      "                                                                 dropout_30[0][0]                 \n",
      "                                                                 dropout_31[0][0]                 \n",
      "                                                                 dropout_32[0][0]                 \n",
      "__________________________________________________________________________________________________\n",
      "dense_7 (Dense)                 (None, 1024)         1049600     concatenate_3[0][0]              \n",
      "__________________________________________________________________________________________________\n",
      "elu_21 (ELU)                    (None, 1024)         0           dense_7[0][0]                    \n",
      "__________________________________________________________________________________________________\n",
      "batch_normalization_11 (BatchNo (None, 1024)         4096        elu_21[0][0]                     \n",
      "__________________________________________________________________________________________________\n",
      "dropout_33 (Dropout)            (None, 1024)         0           batch_normalization_11[0][0]     \n",
      "__________________________________________________________________________________________________\n",
      "dense_8 (Dense)                 (None, 1024)         1049600     dropout_33[0][0]                 \n",
      "__________________________________________________________________________________________________\n",
      "elu_22 (ELU)                    (None, 1024)         0           dense_8[0][0]                    \n",
      "__________________________________________________________________________________________________\n",
      "batch_normalization_12 (BatchNo (None, 1024)         4096        elu_22[0][0]                     \n",
      "__________________________________________________________________________________________________\n",
      "dropout_34 (Dropout)            (None, 1024)         0           batch_normalization_12[0][0]     \n",
      "__________________________________________________________________________________________________\n",
      "output (Dense)                  (None, 1)            1025        dropout_34[0][0]                 \n",
      "==================================================================================================\n",
      "Total params: 2,227,329\n",
      "Trainable params: 2,223,233\n",
      "Non-trainable params: 4,096\n",
      "__________________________________________________________________________________________________\n"
     ]
    }
   ],
   "source": [
    "# CNN Model\n",
    "\n",
    "max_len=75\n",
    "emb_dim=32\n",
    "max_vocab_len=100\n",
    "W_reg=regularizers.l2(1e-4)\n",
    "\n",
    "# Input\n",
    "main_input = Input(shape=(max_len,), dtype='int32', name='main_input')\n",
    "# Embedding layer\n",
    "emb = Embedding(input_dim=max_vocab_len, output_dim=emb_dim, input_length=max_len,\n",
    "            W_regularizer=W_reg)(main_input) \n",
    "emb = Dropout(0.25)(emb)\n",
    "\n",
    "\n",
    "def sum_1d(X):\n",
    "    return K.sum(X, axis=1)\n",
    "\n",
    "def get_conv_layer(emb, kernel_size=5, filters=256):\n",
    "    # Conv layer\n",
    "    conv = Convolution1D(kernel_size=kernel_size, filters=filters, \\\n",
    "                 border_mode='same')(emb)\n",
    "    conv = ELU()(conv)\n",
    "\n",
    "    conv = Lambda(sum_1d, output_shape=(filters,))(conv)\n",
    "    #conv = BatchNormalization(mode=0)(conv)\n",
    "    conv = Dropout(0.5)(conv)\n",
    "    return conv\n",
    "\n",
    "# Multiple Conv Layers\n",
    "\n",
    "# calling custom conv function from above\n",
    "conv1 = get_conv_layer(emb, kernel_size=2, filters=256)\n",
    "conv2 = get_conv_layer(emb, kernel_size=3, filters=256)\n",
    "conv3 = get_conv_layer(emb, kernel_size=4, filters=256)\n",
    "conv4 = get_conv_layer(emb, kernel_size=5, filters=256)\n",
    "\n",
    "# Fully Connected Layers\n",
    "merged = concatenate([conv1,conv2,conv3,conv4], axis=1)\n",
    "\n",
    "hidden1 = Dense(1024)(merged)\n",
    "hidden1 = ELU()(hidden1)\n",
    "hidden1 = BatchNormalization(mode=0)(hidden1)\n",
    "hidden1 = Dropout(0.5)(hidden1)\n",
    "\n",
    "hidden2 = Dense(1024)(hidden1)\n",
    "hidden2 = ELU()(hidden2)\n",
    "hidden2 = BatchNormalization(mode=0)(hidden2)\n",
    "hidden2 = Dropout(0.5)(hidden2)\n",
    "\n",
    "# Output layer (last fully connected layer)\n",
    "output = Dense(1, activation='sigmoid', name='output')(hidden2)\n",
    "\n",
    "# Compile model and define optimizer\n",
    "cnn_model = Model(input=[main_input], output=[output])\n",
    "adam = Adam(lr=1e-4, beta_1=0.9, beta_2=0.999, epsilon=1e-08, decay=0.0)\n",
    "cnn_model.compile(optimizer=adam, loss='binary_crossentropy', metrics=['accuracy'])\n",
    "cnn_model.summary()"
   ]
  },
  {
   "cell_type": "code",
   "execution_count": 36,
   "metadata": {},
   "outputs": [
    {
     "name": "stdout",
     "output_type": "stream",
     "text": [
      "Epoch 1/5\n",
      "50483/50483 [==============================] - 115s 2ms/step - loss: 0.3461 - acc: 0.8568\n",
      "Epoch 2/5\n",
      "50483/50483 [==============================] - 119s 2ms/step - loss: 0.1199 - acc: 0.9723\n",
      "Epoch 3/5\n",
      "50483/50483 [==============================] - 128s 3ms/step - loss: 0.1022 - acc: 0.9757\n",
      "Epoch 4/5\n",
      "50483/50483 [==============================] - 128s 3ms/step - loss: 0.0944 - acc: 0.9759\n",
      "Epoch 5/5\n",
      "50483/50483 [==============================] - 127s 3ms/step - loss: 0.0790 - acc: 0.9777\n"
     ]
    },
    {
     "data": {
      "text/plain": [
       "<keras.callbacks.History at 0x23b71c0ab00>"
      ]
     },
     "execution_count": 36,
     "metadata": {},
     "output_type": "execute_result"
    }
   ],
   "source": [
    "epochs = 5\n",
    "batch_size = 32\n",
    "\n",
    "cnn_model.fit(X_train, target_train, epochs=epochs, batch_size=batch_size)"
   ]
  },
  {
   "cell_type": "code",
   "execution_count": 37,
   "metadata": {},
   "outputs": [
    {
     "name": "stdout",
     "output_type": "stream",
     "text": [
      "16828/16828 [==============================] - 8s 504us/step\n",
      "\n",
      "Final Cross-Validation Accuracy 0.9825291180939354 \n",
      "\n"
     ]
    }
   ],
   "source": [
    "loss, accuracy = cnn_model.evaluate(X_test, target_test, verbose=1)\n",
    "print('\\nFinal Cross-Validation Accuracy', accuracy, '\\n')"
   ]
  },
  {
   "cell_type": "code",
   "execution_count": 40,
   "metadata": {},
   "outputs": [
    {
     "data": {
      "image/png": "[encoded data removed]",
      "text/plain": [
       "<Figure size 432x288 with 1 Axes>"
      ]
     },
     "metadata": {
      "needs_background": "light"
     },
     "output_type": "display_data"
    }
   ],
   "source": [
    "# LSTM and CNN ROC Curve\n",
    "y_pred_keras = model.predict(X_test).ravel()\n",
    "fpr_keras, tpr_keras, thresholds_keras = roc_curve(target_test, y_pred_keras)\n",
    "auc_keras = auc(fpr_keras, tpr_keras)\n",
    "\n",
    "cnn_y_pred_keras = cnn_model.predict(X_test).ravel()\n",
    "cnn_fpr_keras, cnn_tpr_keras, cnn_thresholds_keras = roc_curve(target_test, cnn_y_pred_keras)\n",
    "cnn_auc_keras = auc(cnn_fpr_keras, cnn_tpr_keras)\n",
    "\n",
    "plt.figure(1)\n",
    "plt.plot([0, 1], [0, 1], 'k--')\n",
    "plt.plot(fpr_keras, tpr_keras, label='LSTM (area = {:.3f})'.format(auc_keras))\n",
    "plt.plot(cnn_fpr_keras, cnn_tpr_keras, label='CNN (area = {:.3f})'.format(cnn_auc_keras))\n",
    "plt.xlabel('False positive rate')\n",
    "plt.ylabel('True positive rate')\n",
    "plt.title('ROC curve')\n",
    "plt.legend(loc='best')\n",
    "plt.show()"
   ]
  }
 ],
 "metadata": {
  "kernelspec": {
   "display_name": "Python 3",
   "language": "python",
   "name": "python3"
  },
  "language_info": {
   "codemirror_mode": {
    "name": "ipython",
    "version": 3
   },
   "file_extension": ".py",
   "mimetype": "text/x-python",
   "name": "python",
   "nbconvert_exporter": "python",
   "pygments_lexer": "ipython3",
   "version": "3.6.7"
  }
 },
 "nbformat": 4,
 "nbformat_minor": 2
}
